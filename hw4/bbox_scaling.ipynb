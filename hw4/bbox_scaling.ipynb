{
 "cells": [
  {
   "cell_type": "code",
   "execution_count": 1,
   "metadata": {
    "collapsed": true
   },
   "outputs": [],
   "source": [
    "import os\n",
    "import random\n",
    "from PIL import Image\n",
    "import numpy as np\n",
    "import scipy.misc"
   ]
  },
  {
   "cell_type": "code",
   "execution_count": 2,
   "metadata": {
    "collapsed": true
   },
   "outputs": [],
   "source": [
    "def modify_bbox(x1, y1, x2, y2, height, width, imagePath):\n",
    "    image = Image.open(imagePath)\n",
    "    (currw, currh) = image.size\n",
    "    if currw >= currh:\n",
    "        resize = float(width) / float(currw)\n",
    "    else:\n",
    "        resize = float(height) / float(currh)\n",
    "    x1 = int(resize * x1)\n",
    "    y1 = int(resize * y1)\n",
    "    x2 = int(resize * x2)\n",
    "    y2 = int(resize * y2)\n",
    "    if currw >= currh:\n",
    "        y1 = int(y1 + 0.5 * (height - resize * currh))\n",
    "        y2 = int(y2 + 0.5 * (height - resize * currh))\n",
    "    else:\n",
    "        x1 = int(x1 + 0.5 * (width - resize * currw))\n",
    "        x2 = int(x2 + 0.5 * (width - resize * currw))\n",
    "    print([(x1,y1),(x2,y2)])\n",
    "    return([(x1,y1),(x2,y2)])"
   ]
  },
  {
   "cell_type": "code",
   "execution_count": 16,
   "metadata": {
    "collapsed": true
   },
   "outputs": [],
   "source": [
    "def draw_bounding_boxes(box, img):\n",
    "\n",
    "    img = img.convert(\"RGBA\")\n",
    "\n",
    "    for x in range(box[0][0], box[1][0] + 1):\n",
    "        for y in range(box[0][1], box[1][1] + 1):\n",
    "            rgb = img.getpixel((x,y))\n",
    "            rgb = (rgb[0], rgb[1], rgb[2], 255)\n",
    "            rgb = (int(0.8*rgb[0]), int(0.8*rgb[1]), int(0.8*rgb[2]), 255)\n",
    "            img.putpixel((x,y), rgb)\n",
    "    for x in range(box[0][0], box[1][0] + 1):\n",
    "        img.putpixel((x,box[0][1]), (0,0,255,255))\n",
    "        img.putpixel((x,box[1][1]), (0,0,255,255))\n",
    "    for y in range(box[0][1], box[1][1] + 1):\n",
    "        img.putpixel((box[0][0],y), (0,0,255,255))\n",
    "        img.putpixel((box[1][0],y), (0,0,255,255))\n",
    "    img.show()"
   ]
  },
  {
   "cell_type": "code",
   "execution_count": 4,
   "metadata": {
    "collapsed": true
   },
   "outputs": [],
   "source": [
    "def processImage(imagePath):\n",
    "    image = Image.open(imagePath)\n",
    "    (currw, currh) = image.size\n",
    "    width = 299\n",
    "    height = 299\n",
    "    if currw >= currh:\n",
    "        image = image.resize((width, int(float(currh) * float(width) / float(currw))))\n",
    "    else:\n",
    "        image = image.resize((int(float(currw) * float(height) / float(currh)), height))\n",
    "    background = Image.new('RGB', (width, height), (0, 0, 0))\n",
    "    background.paste(\n",
    "        image, (int((width - image.size[0]) / 2), int((height - image.size[1]) / 2))\n",
    "    )\n",
    "    return background"
   ]
  },
  {
   "cell_type": "code",
   "execution_count": null,
   "metadata": {
    "collapsed": false
   },
   "outputs": [],
   "source": []
  },
  {
   "cell_type": "code",
   "execution_count": 17,
   "metadata": {
    "collapsed": false
   },
   "outputs": [],
   "source": [
    "img = Image.open('/Users/anshulramachandran/Documents/Year3 Q3/CS148/CUB_200_2011/CUB_200_2011/images/001.Black_footed_Albatross/Black_Footed_Albatross_0046_18.jpg')\n",
    "draw_bounding_boxes([(60, 27), (60+325, 27+304)], img)"
   ]
  },
  {
   "cell_type": "code",
   "execution_count": 32,
   "metadata": {
    "collapsed": false
   },
   "outputs": [
    {
     "name": "stdout",
     "output_type": "stream",
     "text": [
      "[(35, 16), (230, 197)]\n"
     ]
    }
   ],
   "source": [
    "img = Image.open('/Users/anshulramachandran/Documents/Year3 Q3/CS148/CUB_200_2011/CUB_200_2011/images/001.Black_footed_Albatross/Black_Footed_Albatross_0046_18.jpg')\n",
    "img = processImage('/Users/anshulramachandran/Documents/Year3 Q3/CS148/CUB_200_2011/CUB_200_2011/images/001.Black_footed_Albatross/Black_Footed_Albatross_0046_18.jpg')\n",
    "bx = modify_bbox(60, 27, 60+325, 27+304, 299, 299, '/Users/anshulramachandran/Documents/Year3 Q3/CS148/CUB_200_2011/CUB_200_2011/images/001.Black_footed_Albatross/Black_Footed_Albatross_0046_18.jpg')\n",
    "draw_bounding_boxes(bx, img)"
   ]
  },
  {
   "cell_type": "code",
   "execution_count": 38,
   "metadata": {
    "collapsed": false
   },
   "outputs": [
    {
     "name": "stdout",
     "output_type": "stream",
     "text": [
      "[(35, 65), (230, 246)]\n"
     ]
    }
   ],
   "source": [
    "img = Image.open('/Users/anshulramachandran/Documents/Year3 Q3/CS148/CUB_200_2011/CUB_200_2011/images/001.Black_footed_Albatross/Black_Footed_Albatross_0046_18.jpg')\n",
    "img = processImage('/Users/anshulramachandran/Documents/Year3 Q3/CS148/CUB_200_2011/CUB_200_2011/images/001.Black_footed_Albatross/Black_Footed_Albatross_0046_18.jpg')\n",
    "bx = modify_bbox(60, 27, 60+325, 27+304, 299, 299, '/Users/anshulramachandran/Documents/Year3 Q3/CS148/CUB_200_2011/CUB_200_2011/images/001.Black_footed_Albatross/Black_Footed_Albatross_0046_18.jpg')\n",
    "draw_bounding_boxes(bx, img)"
   ]
  },
  {
   "cell_type": "code",
   "execution_count": 2,
   "metadata": {
    "collapsed": false
   },
   "outputs": [
    {
     "data": {
      "text/plain": [
       "[9.999999999999998, 20.0, 90.0, 80.0]"
      ]
     },
     "execution_count": 2,
     "metadata": {},
     "output_type": "execute_result"
    }
   ],
   "source": [
    "height = 299.0\n",
    "width = 299.0\n",
    "\n",
    "aspect_ratios = [[1.0, 1.0], [1.0, 0.67], [0.67, 1.0], [0.8, 0.6], [0.6, 0.8], [1.0, 0.75], [0.75, 1.0], [1.0, 0.6], [0.6, 1.0], [1.0, 0.4], [0.4, 1.0]]\n",
    "\n",
    "def make_prior_box(x1, y1, x2, y2, ar):\n",
    "    return [x1 + 0.5*(1.0-ar[0])*(x2 - x1), \n",
    "            y1 + 0.5*(1.0-ar[1])*(y2 - y1), \n",
    "            x2 - 0.5*(1.0-ar[0])*(x2 - x1), \n",
    "            y2 - 0.5*(1.0-ar[1])*(y2 - y1)]\n",
    "\n",
    "make_prior_box(0.0, 0.0, 100.0, 100.0, [0.8, 0.6])"
   ]
  },
  {
   "cell_type": "code",
   "execution_count": 9,
   "metadata": {
    "collapsed": false
   },
   "outputs": [],
   "source": [
    "def get_pboxes(height, width):\n",
    "\n",
    "    pboxes = []\n",
    "\n",
    "    for ar in aspect_ratios:\n",
    "        for i in range(8):\n",
    "            for j in range(8):\n",
    "                pboxes.append(make_prior_box(i*height/9.0, j*width/9.0, (i+1)*height/9.0, (j+1)*width/9.0, ar))\n",
    "            \n",
    "    for ar in aspect_ratios:\n",
    "        for i in range(6):\n",
    "            for j in range(6):\n",
    "                pboxes.append(make_prior_box(i*height/7.0, j*width/7.0, (i+1)*height/7.0, (j+1)*width/7.0, ar))\n",
    "            \n",
    "    for ar in aspect_ratios:\n",
    "        for i in range(4):\n",
    "            for j in range(4):\n",
    "                pboxes.append(make_prior_box(i*height/5.0, j*width/5.0, (i+1)*height/5.0, (j+1)*width/5.0, ar))\n",
    "\n",
    "    for ar in aspect_ratios:\n",
    "        for i in range(3):\n",
    "            for j in range(3):\n",
    "                pboxes.append(make_prior_box(i*height/4.0, j*width/4.0, (i+1)*height/4.0, (j+1)*width/4.0, ar))\n",
    "            \n",
    "    for ar in aspect_ratios:\n",
    "        for i in range(2):\n",
    "            for j in range(2):\n",
    "                pboxes.append(make_prior_box(i*height/3.0, j*width/3.0, (i+1)*height/3.0, (j+1)*width/3.0, ar))\n",
    "\n",
    "    pboxes.append([0.1*height, 0.1*width, 0.9*height, 0.9*width])\n",
    "    \n",
    "    return np.asarray(pboxes)\n",
    "\n"
   ]
  },
  {
   "cell_type": "code",
   "execution_count": 10,
   "metadata": {
    "collapsed": false
   },
   "outputs": [
    {
     "data": {
      "text/plain": [
       "(1420, 4)"
      ]
     },
     "execution_count": 10,
     "metadata": {},
     "output_type": "execute_result"
    }
   ],
   "source": [
    "get_pboxes(299.0, 299.0).shape"
   ]
  },
  {
   "cell_type": "code",
   "execution_count": null,
   "metadata": {
    "collapsed": true
   },
   "outputs": [],
   "source": []
  }
 ],
 "metadata": {
  "anaconda-cloud": {},
  "kernelspec": {
   "display_name": "Python [conda root]",
   "language": "python",
   "name": "conda-root-py"
  },
  "language_info": {
   "codemirror_mode": {
    "name": "ipython",
    "version": 3
   },
   "file_extension": ".py",
   "mimetype": "text/x-python",
   "name": "python",
   "nbconvert_exporter": "python",
   "pygments_lexer": "ipython3",
   "version": "3.5.2"
  }
 },
 "nbformat": 4,
 "nbformat_minor": 1
}
